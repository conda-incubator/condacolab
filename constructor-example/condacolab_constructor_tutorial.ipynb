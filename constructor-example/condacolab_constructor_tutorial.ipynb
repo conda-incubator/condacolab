{
  "cells": [
    {
      "cell_type": "markdown",
      "metadata": {
        "id": "-aPD4P-Qn_3j"
      },
      "source": [
        "# Build a `constructor` installer on Colab\n",
        "\n",
        "You can pack a `conda` installation along with your usual packages to reduce install times! This tutorial will help you create one directly on Colab.\n",
        "\n",
        "First, we need to download the metadata files from the `condacolab` example.\n"
      ]
    },
    {
      "cell_type": "code",
      "execution_count": 1,
      "metadata": {
        "id": "BCWj-KcmXeBK"
      },
      "outputs": [],
      "source": [
        "!wget -q https://raw.githubusercontent.com/jaimergp/condacolab/main/constructor-example/construct.yaml\n",
        "!wget -q https://raw.githubusercontent.com/jaimergp/condacolab/main/constructor-example/pip-dependencies.sh"
      ]
    },
    {
      "cell_type": "markdown",
      "metadata": {
        "id": "RlIMzQABoone"
      },
      "source": [
        "Now, open the sidebar and explore your files. You should see two files:\n",
        "\n",
        "- `construct.yaml`: the main metadata file. Add your `conda` packages list in the `specs` field. If you want, you can also customize the metadata (name and version), but it's not required.\n",
        "- `pip-dependencies.sh`: a helper script to add pip packages to your install. Ideally you don't need to use this because all your packages are coming from `conda`. This should only be a last resort. If you do use pip dependencies, remember to comment out the `post_install` line in `construct.yaml`.\n",
        "\n",
        "If you double click on the the files, you will be able to edit them directly on Colab. Save with <kbd>Ctrl</kbd>+<kbd>S</kbd> or <kbd>Cmd</kbd>+<kbd>S</kbd>. Once you are ready, you can continue with the rest of the (now automatic) process."
      ]
    },
    {
      "cell_type": "code",
      "execution_count": 2,
      "metadata": {
        "colab": {
          "base_uri": "https://localhost:8080/"
        },
        "id": "YiKIYmleV7Uf",
        "outputId": "031b322c-3f15-4d2c-f557-93f6f380b50b"
      },
      "outputs": [
        {
          "name": "stdout",
          "output_type": "stream",
          "text": [
            "⏬ Downloading https://github.com/jaimergp/miniforge/releases/latest/download/Mambaforge-colab-Linux-x86_64.sh...\n",
            "📦 Installing...\n",
            "📌 Adjusting configuration...\n",
            "🩹 Patching environment...\n",
            "⏲ Done in 0:00:45\n",
            "🔁 Restarting kernel...\n"
          ]
        }
      ],
      "source": [
        "!pip install -q condacolab\n",
        "import condacolab\n",
        "condacolab.install()"
      ]
    },
    {
      "cell_type": "markdown",
      "metadata": {
        "id": "gQz3rypUtEKZ"
      },
      "source": [
        "After the kernel restart, run the following cell to build the installer."
      ]
    },
    {
      "cell_type": "code",
      "execution_count": 1,
      "metadata": {
        "colab": {
          "base_uri": "https://localhost:8080/"
        },
        "id": "-RDpyAYfXk9L",
        "outputId": "b48decf3-ce5b-4365-a840-4b43441560b5"
      },
      "outputs": [
        {
          "name": "stdout",
          "output_type": "stream",
          "text": [
            "  Package             Version  Build           Channel                    Size\n",
            "────────────────────────────────────────────────────────────────────────────────\n",
            "  Install:\n",
            "────────────────────────────────────────────────────────────────────────────────\n",
            "\n",
            "\u001b[32m  conda-standalone\u001b[00m      4.9.2  ha770c72_2      conda-forge/linux-64      10 MB\n",
            "\u001b[32m  constructor     \u001b[00m      3.2.1  py37h89c1867_1  conda-forge/linux-64     162 KB\n",
            "\n",
            "  Upgrade:\n",
            "────────────────────────────────────────────────────────────────────────────────\n",
            "\n",
            "\u001b[31m  ca-certificates \u001b[00m  2020.12.5  ha878542_0      installed                      \n",
            "\u001b[32m  ca-certificates \u001b[00m  2021.5.30  ha878542_0      conda-forge/linux-64     136 KB\n",
            "\u001b[31m  certifi         \u001b[00m  2020.12.5  py37h89c1867_1  installed                      \n",
            "\u001b[32m  certifi         \u001b[00m  2021.5.30  py37h89c1867_0  conda-forge/linux-64     141 KB\n",
            "\u001b[31m  openssl         \u001b[00m     1.1.1j  h7f98852_0      installed                      \n",
            "\u001b[32m  openssl         \u001b[00m     1.1.1k  h7f98852_0      conda-forge/linux-64       2 MB\n",
            "\n",
            "  Summary:\n",
            "\n",
            "  Install: 2 packages\n",
            "  Upgrade: 3 packages\n",
            "\n",
            "  Total download: 12 MB\n",
            "\n",
            "────────────────────────────────────────────────────────────────────────────────\n",
            "\n",
            "Preparing transaction: ...working... done\n",
            "Verifying transaction: ...working... done\n",
            "Executing transaction: ...working... done\n",
            "platform: linux-64\n",
            "Collecting package metadata (repodata.json): - \b\b\\ \b\b| \b\b/ \b\b- \b\b\\ \b\b| \b\b/ \b\b- \b\b\\ \b\b| \b\b/ \b\b- \b\b\\ \b\b| \b\b/ \b\b- \b\b\\ \b\b| \b\b/ \b\b- \b\b\\ \b\b| \b\b/ \b\b- \b\b\\ \b\b| \b\b/ \b\b- \b\b\\ \b\b| \b\b/ \b\b- \b\b\\ \b\b| \b\b/ \b\b- \b\b\\ \b\b| \b\b/ \b\b- \b\b\\ \b\b| \b\b/ \b\b- \b\b\\ \b\b| \b\b/ \b\b- \b\b\\ \b\b| \b\b/ \b\b- \b\b\\ \b\b| \b\b/ \b\b- \b\b\\ \b\b| \b\b/ \b\b- \b\b\\ \b\b| \b\b/ \b\b- \b\b\\ \b\b| \b\b/ \b\b- \b\b\\ \b\b| \b\b/ \b\b- \b\b\\ \b\b| \b\b/ \b\b- \b\b\\ \b\b| \b\b/ \b\b- \b\b\\ \b\b| \b\b/ \b\b- \b\b\\ \b\b| \b\b/ \b\b- \b\b\\ \b\b| \b\b/ \b\b- \b\b\\ \b\b| \b\b/ \b\b- \b\b\\ \b\b| \b\b/ \b\b- \b\b\\ \b\b| \b\b/ \b\b- \b\b\\ \b\b| \b\b/ \b\b- \b\b\\ \b\b| \b\b/ \b\b- \b\b\\ \b\b| \b\b/ \b\b- \b\b\\ \b\b| \b\b/ \b\b- \b\b\\ \b\b| \b\b/ \b\b- \b\b\\ \b\b| \b\b/ \b\b- \b\b\\ \b\b| \b\b/ \b\b- \b\b\\ \b\b| \b\b/ \b\b- \b\b\\ \b\b| \b\b/ \b\b- \b\b\\ \b\b| \b\b/ \b\b- \b\b\\ \b\b| \b\b/ \b\b- \b\b\\ \b\b| \b\b/ \b\b- \b\b\\ \b\b| \b\b/ \b\b- \b\b\\ \b\b| \b\b/ \b\b- \b\b\\ \b\b| \b\b/ \b\b- \b\b\\ \b\b| \b\b/ \b\b- \b\b\\ \b\b| \b\b/ \b\b- \b\b\\ \b\b| \b\b/ \b\b- \b\b\\ \b\b| \b\b/ \b\b- \b\b\\ \b\b| \b\b/ \b\b- \b\b\\ \b\b| \b\b/ \b\b- \b\b\\ \b\b| \b\b/ \b\b- \b\b\\ \b\b| \b\b/ \b\b- \b\b\\ \b\b| \b\b/ \b\b- \b\b\\ \b\b| \b\b/ \b\b- \b\b\\ \b\b| \b\b/ \b\b- \b\b\\ \b\b| \b\b/ \b\b- \b\b\\ \b\b| \b\b/ \b\b- \b\b\\ \b\b| \b\b/ \b\b- \b\b\\ \b\b| \b\b/ \b\b- \b\b\\ \b\b| \b\b/ \b\bdone\n",
            "Solving environment: \\ \b\b| \b\b/ \b\b- \b\b\\ \b\b| \b\b/ \b\b- \b\b\\ \b\b| \b\b/ \b\b- \b\b\\ \b\b| \b\b/ \b\b- \b\b\\ \b\b| \b\b/ \b\b- \b\b\\ \b\b| \b\b/ \b\b- \b\b\\ \b\b| \b\b/ \b\b- \b\b\\ \b\b| \b\b/ \b\b- \b\b\\ \b\b| \b\b/ \b\b- \b\b\\ \b\b| \b\b/ \b\b- \b\b\\ \b\b| \b\b/ \b\bdone\n",
            "fetching: python-3.7.0-hd21baee_1006.tar.bz2\n",
            "fetching: _libgcc_mutex-0.1-conda_forge.tar.bz2\n",
            "fetching: ca-certificates-2021.5.30-ha878542_0.tar.bz2\n",
            "fetching: libstdcxx-ng-9.3.0-h6de172a_19.tar.bz2\n",
            "fetching: libgomp-9.3.0-h2828fa1_19.tar.bz2\n",
            "fetching: _openmp_mutex-4.5-1_gnu.tar.bz2\n",
            "fetching: libgcc-ng-9.3.0-h2828fa1_19.tar.bz2\n",
            "fetching: bzip2-1.0.8-h7f98852_4.tar.bz2\n",
            "fetching: libffi-3.2.1-he1b5a44_1007.tar.bz2\n",
            "fetching: ncurses-6.2-h58526e2_4.tar.bz2\n",
            "fetching: openssl-1.0.2u-h516909a_0.tar.bz2\n",
            "fetching: xz-5.2.5-h516909a_1.tar.bz2\n",
            "fetching: yaml-0.2.5-h516909a_0.tar.bz2\n",
            "fetching: zlib-1.2.11-h516909a_1010.tar.bz2\n",
            "fetching: libsolv-0.7.19-h780b84a_2.tar.bz2\n",
            "fetching: readline-7.0-hf8c457e_1001.tar.bz2\n",
            "fetching: tk-8.6.10-h21135ba_1.tar.bz2\n",
            "fetching: sqlite-3.28.0-h8b20d00_0.tar.bz2\n",
            "fetching: asn1crypto-1.4.0-pyh9f0ad1d_0.tar.bz2\n",
            "fetching: dataclasses-0.8-pyhc8e2a94_1.tar.bz2\n",
            "fetching: idna-2.10-pyh9f0ad1d_0.tar.bz2\n",
            "fetching: itsdangerous-2.0.1-pyhd8ed1ab_0.tar.bz2\n",
            "fetching: pycparser-2.20-pyh9f0ad1d_2.tar.bz2\n",
            "fetching: python_abi-3.7-2_cp37m.tar.bz2\n",
            "fetching: six-1.16.0-pyh6c4a22f_0.tar.bz2\n",
            "fetching: tqdm-4.61.1-pyhd8ed1ab_0.tar.bz2\n",
            "fetching: typing_extensions-3.10.0.0-pyha770c72_0.tar.bz2\n",
            "fetching: wheel-0.36.2-pyhd3deb0d_0.tar.bz2\n",
            "fetching: zipp-3.4.1-pyhd8ed1ab_0.tar.bz2\n",
            "fetching: certifi-2021.5.30-py37h89c1867_0.tar.bz2\n",
            "fetching: cffi-1.14.4-py37h11fe52a_0.tar.bz2\n",
            "fetching: chardet-4.0.0-py37h89c1867_1.tar.bz2\n",
            "fetching: conda-package-handling-1.7.3-py37h5e8e339_0.tar.bz2\n",
            "fetching: importlib-metadata-4.6.0-py37h89c1867_0.tar.bz2\n",
            "fetching: markupsafe-2.0.1-py37h5e8e339_0.tar.bz2\n",
            "fetching: pycosat-0.6.3-py37h5e8e339_1006.tar.bz2\n",
            "fetching: pysocks-1.7.1-py37h89c1867_3.tar.bz2\n",
            "fetching: ruamel_yaml-0.15.80-py37h5e8e339_1004.tar.bz2\n",
            "fetching: werkzeug-2.0.1-pyhd8ed1ab_0.tar.bz2\n",
            "fetching: brotlipy-0.7.0-py37h5e8e339_1001.tar.bz2\n",
            "fetching: click-8.0.1-py37h89c1867_0.tar.bz2\n",
            "fetching: cryptography-2.5-py37hb7f436b_1.tar.bz2\n",
            "fetching: jinja2-3.0.1-pyhd8ed1ab_0.tar.bz2\n",
            "fetching: setuptools-49.6.0-py37h89c1867_3.tar.bz2\n",
            "fetching: flask-2.0.1-pyhd8ed1ab_0.tar.bz2\n",
            "fetching: pip-21.1.3-pyhd8ed1ab_0.tar.bz2\n",
            "fetching: pyopenssl-19.0.0-py37_0.tar.bz2\n",
            "fetching: urllib3-1.26.6-pyhd8ed1ab_0.tar.bz2\n",
            "fetching: requests-2.25.1-pyhd3deb0d_0.tar.bz2\n",
            "fetching: conda-4.10.3-py37h89c1867_0.tar.bz2\n",
            "fetching: mamba-0.1.2-py37h99015e2_0.tar.bz2\n",
            "Checking for duplicate files ...\n",
            "Warning: Files 'share/terminfo/2/2621a', 'share/terminfo/2/2621A' found in the package(s): ncurses-6.2-h58526e2_4.tar.bz2\n",
            "Warning: Files 'share/terminfo/E/Eterm', 'share/terminfo/e/eterm' found in the package(s): ncurses-6.2-h58526e2_4.tar.bz2\n",
            "Warning: Files 'share/terminfo/E/Eterm-color', 'share/terminfo/e/eterm-color' found in the package(s): ncurses-6.2-h58526e2_4.tar.bz2\n",
            "Warning: Files 'share/terminfo/l/lft-pc850', 'share/terminfo/L/LFT-PC850' found in the package(s): ncurses-6.2-h58526e2_4.tar.bz2\n",
            "Warning: Files 'share/terminfo/n/ncr260vt300wpp', 'share/terminfo/N/NCR260VT300WPP' found in the package(s): ncurses-6.2-h58526e2_4.tar.bz2\n",
            "Warning: Files 'share/terminfo/N/NCRVT100WPP', 'share/terminfo/n/ncrvt100wpp' found in the package(s): ncurses-6.2-h58526e2_4.tar.bz2\n",
            "Warning: Files 'share/terminfo/P/P12', 'share/terminfo/p/p12' found in the package(s): ncurses-6.2-h58526e2_4.tar.bz2\n",
            "Warning: Files 'share/terminfo/P/P12-M', 'share/terminfo/p/p12-m' found in the package(s): ncurses-6.2-h58526e2_4.tar.bz2\n",
            "Warning: Files 'share/terminfo/P/P12-M-W', 'share/terminfo/p/p12-m-w' found in the package(s): ncurses-6.2-h58526e2_4.tar.bz2\n",
            "Warning: Files 'share/terminfo/p/p12-w', 'share/terminfo/P/P12-W' found in the package(s): ncurses-6.2-h58526e2_4.tar.bz2\n",
            "Warning: Files 'share/terminfo/p/p14', 'share/terminfo/P/P14' found in the package(s): ncurses-6.2-h58526e2_4.tar.bz2\n",
            "Warning: Files 'share/terminfo/P/P14-M', 'share/terminfo/p/p14-m' found in the package(s): ncurses-6.2-h58526e2_4.tar.bz2\n",
            "Warning: Files 'share/terminfo/P/P14-M-W', 'share/terminfo/p/p14-m-w' found in the package(s): ncurses-6.2-h58526e2_4.tar.bz2\n",
            "Warning: Files 'share/terminfo/P/P14-W', 'share/terminfo/p/p14-w' found in the package(s): ncurses-6.2-h58526e2_4.tar.bz2\n",
            "Warning: Files 'share/terminfo/p/p4', 'share/terminfo/P/P4' found in the package(s): ncurses-6.2-h58526e2_4.tar.bz2\n",
            "Warning: Files 'share/terminfo/P/P5', 'share/terminfo/p/p5' found in the package(s): ncurses-6.2-h58526e2_4.tar.bz2\n",
            "Warning: Files 'share/terminfo/P/P7', 'share/terminfo/p/p7' found in the package(s): ncurses-6.2-h58526e2_4.tar.bz2\n",
            "Warning: Files 'share/terminfo/P/P8', 'share/terminfo/p/p8' found in the package(s): ncurses-6.2-h58526e2_4.tar.bz2\n",
            "Warning: Files 'share/terminfo/p/p8-w', 'share/terminfo/P/P8-W' found in the package(s): ncurses-6.2-h58526e2_4.tar.bz2\n",
            "Warning: Files 'share/terminfo/P/P9', 'share/terminfo/p/p9' found in the package(s): ncurses-6.2-h58526e2_4.tar.bz2\n",
            "Warning: Files 'share/terminfo/P/P9-8', 'share/terminfo/p/p9-8' found in the package(s): ncurses-6.2-h58526e2_4.tar.bz2\n",
            "Warning: Files 'share/terminfo/P/P9-8-W', 'share/terminfo/p/p9-8-w' found in the package(s): ncurses-6.2-h58526e2_4.tar.bz2\n",
            "Warning: Files 'share/terminfo/p/p9-w', 'share/terminfo/P/P9-W' found in the package(s): ncurses-6.2-h58526e2_4.tar.bz2\n",
            "Warning: Files 'share/terminfo/h/hp2621a', 'share/terminfo/h/hp2621A' found in the package(s): ncurses-6.2-h58526e2_4.tar.bz2\n",
            "Warning: Files 'share/terminfo/h/hp70092A', 'share/terminfo/h/hp70092a' found in the package(s): ncurses-6.2-h58526e2_4.tar.bz2\n",
            "Reading: /usr/local/lib/python3.7/site-packages/constructor/header.sh\n",
            "Successfully created '/content/condacolab-0.1-Linux-x86_64.sh'.\n"
          ]
        }
      ],
      "source": [
        "!mamba install -q constructor\n",
        "!constructor ."
      ]
    },
    {
      "cell_type": "markdown",
      "metadata": {
        "id": "v-CmIYpbqB_7"
      },
      "source": [
        "When you are done, you can download the generated `.sh` installer with this cell below. Alternatively, use the sidebar menu to download it."
      ]
    },
    {
      "cell_type": "code",
      "execution_count": 4,
      "metadata": {
        "colab": {
          "base_uri": "https://localhost:8080/",
          "height": 17
        },
        "id": "e8sUzk5tXmPD",
        "outputId": "e9efa6e3-ce70-4873-97fa-d3ae3c969ec4"
      },
      "outputs": [
        {
          "data": {
            "application/javascript": "\n    async function download(id, filename, size) {\n      if (!google.colab.kernel.accessAllowed) {\n        return;\n      }\n      const div = document.createElement('div');\n      const label = document.createElement('label');\n      label.textContent = `Downloading \"${filename}\": `;\n      div.appendChild(label);\n      const progress = document.createElement('progress');\n      progress.max = size;\n      div.appendChild(progress);\n      document.body.appendChild(div);\n\n      const buffers = [];\n      let downloaded = 0;\n\n      const channel = await google.colab.kernel.comms.open(id);\n      // Send a message to notify the kernel that we're ready.\n      channel.send({})\n\n      for await (const message of channel.messages) {\n        // Send a message to notify the kernel that we're ready.\n        channel.send({})\n        if (message.buffers) {\n          for (const buffer of message.buffers) {\n            buffers.push(buffer);\n            downloaded += buffer.byteLength;\n            progress.value = downloaded;\n          }\n        }\n      }\n      const blob = new Blob(buffers, {type: 'application/binary'});\n      const a = document.createElement('a');\n      a.href = window.URL.createObjectURL(blob);\n      a.download = filename;\n      div.appendChild(a);\n      a.click();\n      div.remove();\n    }\n  ",
            "text/plain": [
              "<IPython.core.display.Javascript object>"
            ]
          },
          "metadata": {
            "tags": []
          },
          "output_type": "display_data"
        },
        {
          "data": {
            "application/javascript": "download(\"download_caf28e57-76ed-4103-bcd1-dd7b26350aed\", \"condacolab-0.1-Linux-x86_64.sh\", 77428174)",
            "text/plain": [
              "<IPython.core.display.Javascript object>"
            ]
          },
          "metadata": {
            "tags": []
          },
          "output_type": "display_data"
        }
      ],
      "source": [
        "from google.colab import files\n",
        "installer = !ls *-Linux-x86_64.sh\n",
        "files.download(installer[0])"
      ]
    }
  ],
  "metadata": {
    "colab": {
      "collapsed_sections": [],
      "name": "ConstructorForCondaColab.ipynb",
      "provenance": []
    },
    "interpreter": {
      "hash": "2204356f6e94672614c10733cd246d2e6e10b84c5f1a906537cb3f5d52077cc1"
    },
    "kernelspec": {
      "display_name": "Python 3.9.4 64-bit ('asv': conda)",
      "name": "python3"
    },
    "language_info": {
      "name": "python",
      "version": ""
    }
  },
  "nbformat": 4,
  "nbformat_minor": 0
}